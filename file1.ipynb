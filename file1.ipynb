{
 "cells": [
  {
   "cell_type": "markdown",
   "metadata": {},
   "source": [
    "# **======================================**"
   ]
  },
  {
   "cell_type": "markdown",
   "metadata": {},
   "source": [
    "# **Machine Learning Basics**"
   ]
  },
  {
   "cell_type": "markdown",
   "metadata": {},
   "source": [
    "# **======================================**"
   ]
  },
  {
   "cell_type": "markdown",
   "metadata": {},
   "source": [
    "### ***EDA BASIC WITH PANDAS, NUMPY, SEABORN, MATPLOTLIB DONE***\n",
    "### ***NOW ITS TIME FOR SCIKIT LEARN LIBRARY***"
   ]
  },
  {
   "cell_type": "markdown",
   "metadata": {},
   "source": [
    "# **======================================**"
   ]
  },
  {
   "cell_type": "code",
   "execution_count": 1,
   "metadata": {},
   "outputs": [],
   "source": [
    "from matplotlib import pyplot as plt\n",
    "import numpy as np\n",
    "import pandas as pd\n",
    "import seaborn as sns\n",
    "from sklearn.impute import SimpleImputer"
   ]
  },
  {
   "cell_type": "code",
   "execution_count": 2,
   "metadata": {},
   "outputs": [
    {
     "data": {
      "text/html": [
       "<div>\n",
       "<style scoped>\n",
       "    .dataframe tbody tr th:only-of-type {\n",
       "        vertical-align: middle;\n",
       "    }\n",
       "\n",
       "    .dataframe tbody tr th {\n",
       "        vertical-align: top;\n",
       "    }\n",
       "\n",
       "    .dataframe thead th {\n",
       "        text-align: right;\n",
       "    }\n",
       "</style>\n",
       "<table border=\"1\" class=\"dataframe\">\n",
       "  <thead>\n",
       "    <tr style=\"text-align: right;\">\n",
       "      <th></th>\n",
       "      <th>ID</th>\n",
       "      <th>Name</th>\n",
       "      <th>Age</th>\n",
       "      <th>Nationality</th>\n",
       "      <th>Overall</th>\n",
       "      <th>Potential</th>\n",
       "      <th>Club</th>\n",
       "      <th>Value</th>\n",
       "      <th>Wage</th>\n",
       "      <th>Preferred Foot</th>\n",
       "      <th>International Reputation</th>\n",
       "      <th>Skill Moves</th>\n",
       "      <th>Position</th>\n",
       "      <th>Joined</th>\n",
       "      <th>Contract Valid Until</th>\n",
       "      <th>Height</th>\n",
       "      <th>Weight</th>\n",
       "      <th>Release Clause</th>\n",
       "    </tr>\n",
       "  </thead>\n",
       "  <tbody>\n",
       "    <tr>\n",
       "      <th>0</th>\n",
       "      <td>158023</td>\n",
       "      <td>L. Messi</td>\n",
       "      <td>31</td>\n",
       "      <td>Argentina</td>\n",
       "      <td>94</td>\n",
       "      <td>94</td>\n",
       "      <td>FC Barcelona</td>\n",
       "      <td>110500.0</td>\n",
       "      <td>565.0</td>\n",
       "      <td>Left</td>\n",
       "      <td>5.0</td>\n",
       "      <td>4.0</td>\n",
       "      <td>RF</td>\n",
       "      <td>2004</td>\n",
       "      <td>2021-01-01</td>\n",
       "      <td>5.583333</td>\n",
       "      <td>159.0</td>\n",
       "      <td>226500.0</td>\n",
       "    </tr>\n",
       "    <tr>\n",
       "      <th>1</th>\n",
       "      <td>20801</td>\n",
       "      <td>Cristiano Ronaldo</td>\n",
       "      <td>33</td>\n",
       "      <td>Portugal</td>\n",
       "      <td>94</td>\n",
       "      <td>94</td>\n",
       "      <td>Juventus</td>\n",
       "      <td>77000.0</td>\n",
       "      <td>405.0</td>\n",
       "      <td>Right</td>\n",
       "      <td>5.0</td>\n",
       "      <td>5.0</td>\n",
       "      <td>ST</td>\n",
       "      <td>2018</td>\n",
       "      <td>2022-01-01</td>\n",
       "      <td>6.166667</td>\n",
       "      <td>183.0</td>\n",
       "      <td>127100.0</td>\n",
       "    </tr>\n",
       "    <tr>\n",
       "      <th>2</th>\n",
       "      <td>190871</td>\n",
       "      <td>Neymar Jr</td>\n",
       "      <td>26</td>\n",
       "      <td>Brazil</td>\n",
       "      <td>92</td>\n",
       "      <td>93</td>\n",
       "      <td>Paris Saint-Germain</td>\n",
       "      <td>118500.0</td>\n",
       "      <td>290.0</td>\n",
       "      <td>Right</td>\n",
       "      <td>5.0</td>\n",
       "      <td>5.0</td>\n",
       "      <td>LW</td>\n",
       "      <td>2017</td>\n",
       "      <td>2022-01-01</td>\n",
       "      <td>5.750000</td>\n",
       "      <td>150.0</td>\n",
       "      <td>228100.0</td>\n",
       "    </tr>\n",
       "    <tr>\n",
       "      <th>3</th>\n",
       "      <td>193080</td>\n",
       "      <td>De Gea</td>\n",
       "      <td>27</td>\n",
       "      <td>Spain</td>\n",
       "      <td>91</td>\n",
       "      <td>93</td>\n",
       "      <td>Manchester United</td>\n",
       "      <td>72000.0</td>\n",
       "      <td>260.0</td>\n",
       "      <td>Right</td>\n",
       "      <td>4.0</td>\n",
       "      <td>1.0</td>\n",
       "      <td>GK</td>\n",
       "      <td>2011</td>\n",
       "      <td>2020-01-01</td>\n",
       "      <td>6.333333</td>\n",
       "      <td>168.0</td>\n",
       "      <td>138600.0</td>\n",
       "    </tr>\n",
       "    <tr>\n",
       "      <th>4</th>\n",
       "      <td>192985</td>\n",
       "      <td>K. De Bruyne</td>\n",
       "      <td>27</td>\n",
       "      <td>Belgium</td>\n",
       "      <td>91</td>\n",
       "      <td>92</td>\n",
       "      <td>Manchester City</td>\n",
       "      <td>102000.0</td>\n",
       "      <td>355.0</td>\n",
       "      <td>Right</td>\n",
       "      <td>4.0</td>\n",
       "      <td>4.0</td>\n",
       "      <td>RCM</td>\n",
       "      <td>2015</td>\n",
       "      <td>2023-01-01</td>\n",
       "      <td>5.916667</td>\n",
       "      <td>154.0</td>\n",
       "      <td>196400.0</td>\n",
       "    </tr>\n",
       "  </tbody>\n",
       "</table>\n",
       "</div>"
      ],
      "text/plain": [
       "       ID               Name  Age Nationality  Overall  Potential  \\\n",
       "0  158023           L. Messi   31   Argentina       94         94   \n",
       "1   20801  Cristiano Ronaldo   33    Portugal       94         94   \n",
       "2  190871          Neymar Jr   26      Brazil       92         93   \n",
       "3  193080             De Gea   27       Spain       91         93   \n",
       "4  192985       K. De Bruyne   27     Belgium       91         92   \n",
       "\n",
       "                  Club     Value   Wage Preferred Foot  \\\n",
       "0         FC Barcelona  110500.0  565.0           Left   \n",
       "1             Juventus   77000.0  405.0          Right   \n",
       "2  Paris Saint-Germain  118500.0  290.0          Right   \n",
       "3    Manchester United   72000.0  260.0          Right   \n",
       "4      Manchester City  102000.0  355.0          Right   \n",
       "\n",
       "   International Reputation  Skill Moves Position  Joined  \\\n",
       "0                       5.0          4.0       RF    2004   \n",
       "1                       5.0          5.0       ST    2018   \n",
       "2                       5.0          5.0       LW    2017   \n",
       "3                       4.0          1.0       GK    2011   \n",
       "4                       4.0          4.0      RCM    2015   \n",
       "\n",
       "  Contract Valid Until    Height  Weight  Release Clause  \n",
       "0           2021-01-01  5.583333   159.0        226500.0  \n",
       "1           2022-01-01  6.166667   183.0        127100.0  \n",
       "2           2022-01-01  5.750000   150.0        228100.0  \n",
       "3           2020-01-01  6.333333   168.0        138600.0  \n",
       "4           2023-01-01  5.916667   154.0        196400.0  "
      ]
     },
     "execution_count": 2,
     "metadata": {},
     "output_type": "execute_result"
    }
   ],
   "source": [
    "dts = pd.read_csv('fifa_eda.csv')\n",
    "dts.head()"
   ]
  },
  {
   "cell_type": "code",
   "execution_count": 3,
   "metadata": {},
   "outputs": [
    {
     "name": "stdout",
     "output_type": "stream",
     "text": [
      "<class 'pandas.core.frame.DataFrame'>\n",
      "RangeIndex: 18207 entries, 0 to 18206\n",
      "Data columns (total 18 columns):\n",
      " #   Column                    Non-Null Count  Dtype  \n",
      "---  ------                    --------------  -----  \n",
      " 0   ID                        18207 non-null  int64  \n",
      " 1   Name                      18207 non-null  object \n",
      " 2   Age                       18207 non-null  int64  \n",
      " 3   Nationality               18207 non-null  object \n",
      " 4   Overall                   18207 non-null  int64  \n",
      " 5   Potential                 18207 non-null  int64  \n",
      " 6   Club                      17966 non-null  object \n",
      " 7   Value                     17955 non-null  float64\n",
      " 8   Wage                      18207 non-null  float64\n",
      " 9   Preferred Foot            18207 non-null  object \n",
      " 10  International Reputation  18159 non-null  float64\n",
      " 11  Skill Moves               18159 non-null  float64\n",
      " 12  Position                  18207 non-null  object \n",
      " 13  Joined                    18207 non-null  int64  \n",
      " 14  Contract Valid Until      17918 non-null  object \n",
      " 15  Height                    18207 non-null  float64\n",
      " 16  Weight                    18207 non-null  float64\n",
      " 17  Release Clause            18207 non-null  float64\n",
      "dtypes: float64(7), int64(5), object(6)\n",
      "memory usage: 2.5+ MB\n"
     ]
    },
    {
     "data": {
      "text/plain": [
       "ID                            0\n",
       "Name                          0\n",
       "Age                           0\n",
       "Nationality                   0\n",
       "Overall                       0\n",
       "Potential                     0\n",
       "Club                        241\n",
       "Value                       252\n",
       "Wage                          0\n",
       "Preferred Foot                0\n",
       "International Reputation     48\n",
       "Skill Moves                  48\n",
       "Position                      0\n",
       "Joined                        0\n",
       "Contract Valid Until        289\n",
       "Height                        0\n",
       "Weight                        0\n",
       "Release Clause                0\n",
       "dtype: int64"
      ]
     },
     "execution_count": 3,
     "metadata": {},
     "output_type": "execute_result"
    }
   ],
   "source": [
    "dts.info()\n",
    "dts.isnull().sum()"
   ]
  },
  {
   "cell_type": "code",
   "execution_count": 4,
   "metadata": {},
   "outputs": [],
   "source": [
    "floatC = dts.select_dtypes(include='float64').columns\n",
    "#dtns = dts.select_dtypes(include='number' and 'float64')\n",
    "#dtns.info()"
   ]
  },
  {
   "cell_type": "code",
   "execution_count": 5,
   "metadata": {},
   "outputs": [],
   "source": [
    "intC = dts.select_dtypes(include='int64').columns"
   ]
  },
  {
   "cell_type": "code",
   "execution_count": 6,
   "metadata": {},
   "outputs": [],
   "source": [
    "si = SimpleImputer(strategy=\"mean\")\n",
    "ar = si.fit_transform(dts[floatC])"
   ]
  },
  {
   "cell_type": "code",
   "execution_count": 7,
   "metadata": {},
   "outputs": [],
   "source": [
    "#newdts = pd.DataFrame(ar,columns=dts.select_dtypes(include='float64').columns)\n",
    "newdts = pd.DataFrame(ar,columns=floatC)"
   ]
  },
  {
   "cell_type": "code",
   "execution_count": 8,
   "metadata": {},
   "outputs": [],
   "source": [
    "for col in intC:\n",
    "    newdts[col] = dts[col]"
   ]
  },
  {
   "cell_type": "code",
   "execution_count": 9,
   "metadata": {},
   "outputs": [],
   "source": [
    "non_intC = dts.select_dtypes(exclude=['int64','float64']).columns\n",
    "for col in non_intC:\n",
    "    newdts[col] = dts[col]"
   ]
  },
  {
   "cell_type": "code",
   "execution_count": 10,
   "metadata": {},
   "outputs": [
    {
     "name": "stdout",
     "output_type": "stream",
     "text": [
      "<class 'pandas.core.frame.DataFrame'>\n",
      "RangeIndex: 18207 entries, 0 to 18206\n",
      "Data columns (total 18 columns):\n",
      " #   Column                    Non-Null Count  Dtype  \n",
      "---  ------                    --------------  -----  \n",
      " 0   Value                     18207 non-null  float64\n",
      " 1   Wage                      18207 non-null  float64\n",
      " 2   International Reputation  18207 non-null  float64\n",
      " 3   Skill Moves               18207 non-null  float64\n",
      " 4   Height                    18207 non-null  float64\n",
      " 5   Weight                    18207 non-null  float64\n",
      " 6   Release Clause            18207 non-null  float64\n",
      " 7   ID                        18207 non-null  int64  \n",
      " 8   Age                       18207 non-null  int64  \n",
      " 9   Overall                   18207 non-null  int64  \n",
      " 10  Potential                 18207 non-null  int64  \n",
      " 11  Joined                    18207 non-null  int64  \n",
      " 12  Name                      18207 non-null  object \n",
      " 13  Nationality               18207 non-null  object \n",
      " 14  Club                      17966 non-null  object \n",
      " 15  Preferred Foot            18207 non-null  object \n",
      " 16  Position                  18207 non-null  object \n",
      " 17  Contract Valid Until      17918 non-null  object \n",
      "dtypes: float64(7), int64(5), object(6)\n",
      "memory usage: 2.5+ MB\n"
     ]
    }
   ],
   "source": [
    "newdts.info()"
   ]
  },
  {
   "cell_type": "code",
   "execution_count": 11,
   "metadata": {},
   "outputs": [
    {
     "data": {
      "text/plain": [
       "Value                         0\n",
       "Wage                          0\n",
       "International Reputation      0\n",
       "Skill Moves                   0\n",
       "Height                        0\n",
       "Weight                        0\n",
       "Release Clause                0\n",
       "ID                            0\n",
       "Age                           0\n",
       "Overall                       0\n",
       "Potential                     0\n",
       "Joined                        0\n",
       "Name                          0\n",
       "Nationality                   0\n",
       "Club                        241\n",
       "Preferred Foot                0\n",
       "Position                      0\n",
       "Contract Valid Until        289\n",
       "dtype: int64"
      ]
     },
     "execution_count": 11,
     "metadata": {},
     "output_type": "execute_result"
    }
   ],
   "source": [
    "newdts.isnull().sum()"
   ]
  },
  {
   "cell_type": "code",
   "execution_count": 12,
   "metadata": {},
   "outputs": [
    {
     "data": {
      "text/plain": [
       "Value                       0\n",
       "Wage                        0\n",
       "International Reputation    0\n",
       "Skill Moves                 0\n",
       "Height                      0\n",
       "Weight                      0\n",
       "Release Clause              0\n",
       "ID                          0\n",
       "Age                         0\n",
       "Overall                     0\n",
       "Potential                   0\n",
       "Joined                      0\n",
       "Name                        0\n",
       "Nationality                 0\n",
       "Club                        0\n",
       "Preferred Foot              0\n",
       "Position                    0\n",
       "Contract Valid Until        0\n",
       "dtype: int64"
      ]
     },
     "execution_count": 12,
     "metadata": {},
     "output_type": "execute_result"
    }
   ],
   "source": [
    "newdts['Club']=newdts['Club'].bfill()\n",
    "newdts['Contract Valid Until']=newdts['Contract Valid Until'].bfill()\n",
    "newdts.isnull().sum()"
   ]
  }
 ],
 "metadata": {
  "kernelspec": {
   "display_name": "Python 3",
   "language": "python",
   "name": "python3"
  },
  "language_info": {
   "codemirror_mode": {
    "name": "ipython",
    "version": 3
   },
   "file_extension": ".py",
   "mimetype": "text/x-python",
   "name": "python",
   "nbconvert_exporter": "python",
   "pygments_lexer": "ipython3",
   "version": "3.12.4"
  }
 },
 "nbformat": 4,
 "nbformat_minor": 2
}
